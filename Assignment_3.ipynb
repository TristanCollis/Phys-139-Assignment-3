{
 "cells": [
  {
   "cell_type": "markdown",
   "metadata": {},
   "source": [
    "# Setup"
   ]
  },
  {
   "cell_type": "code",
   "execution_count": 1,
   "metadata": {},
   "outputs": [],
   "source": [
    "import numpy as np\n",
    "import matplotlib.pyplot as plt"
   ]
  },
  {
   "cell_type": "code",
   "execution_count": 2,
   "metadata": {},
   "outputs": [],
   "source": [
    "rng = np.random.default_rng()"
   ]
  },
  {
   "cell_type": "code",
   "execution_count": 3,
   "metadata": {},
   "outputs": [],
   "source": [
    "def error(observed, theoretical):\n",
    "    return abs((theoretical - observed) / observed)"
   ]
  },
  {
   "cell_type": "code",
   "execution_count": 4,
   "metadata": {},
   "outputs": [],
   "source": [
    "def mean_over_median(a: np.ndarray, axis=None) -> float:\n",
    "    return np.mean(a, axis=axis) / np.median(a, axis=axis)"
   ]
  },
  {
   "cell_type": "code",
   "execution_count": 5,
   "metadata": {},
   "outputs": [],
   "source": [
    "def jackknife(sample: np.ndarray, estimator: callable) -> np.ndarray:\n",
    "    return estimator(\n",
    "        np.vstack(\n",
    "            tuple(\n",
    "                np.concatenate((sample[:i], sample[i + 1 :]))\n",
    "                for i in range(sample.size)\n",
    "            )\n",
    "        ),\n",
    "        axis=-1,\n",
    "    )"
   ]
  },
  {
   "cell_type": "code",
   "execution_count": 6,
   "metadata": {},
   "outputs": [],
   "source": [
    "def bootstrap(\n",
    "    sample: np.ndarray, estimator: callable, resamples: int = 10_000\n",
    ") -> np.ndarray:\n",
    "    return estimator(\n",
    "        rng.choice(sample, (resamples, sample.size)).reshape((resamples, sample.size)),\n",
    "        axis=-1,\n",
    "    )"
   ]
  },
  {
   "cell_type": "markdown",
   "metadata": {},
   "source": [
    "# Problem 1"
   ]
  },
  {
   "cell_type": "markdown",
   "metadata": {},
   "source": [
    "## A)\n",
    "(Note, the following graphs plot density, not total occurrences)"
   ]
  },
  {
   "cell_type": "code",
   "execution_count": 7,
   "metadata": {},
   "outputs": [],
   "source": [
    "alpha, beta, samples = 4, 1, 10**7\n",
    "\n",
    "gamma = rng.gamma(alpha, beta, samples)\n",
    "sample = rng.choice(gamma, 100, replace=False)"
   ]
  },
  {
   "cell_type": "markdown",
   "metadata": {},
   "source": [
    "### Hidden Side (Population)"
   ]
  },
  {
   "cell_type": "code",
   "execution_count": 8,
   "metadata": {},
   "outputs": [
    {
     "data": {
      "image/png": "[encoded data removed]",
      "text/plain": [
       "<Figure size 640x480 with 1 Axes>"
      ]
     },
     "metadata": {},
     "output_type": "display_data"
    }
   ],
   "source": [
    "plt.hist(gamma, bins=1000, density=True)\n",
    "plt.savefig(fname=\"Problem 1A Population.png\")\n",
    "plt.clf()"
   ]
  },
  {
   "cell_type": "markdown",
   "metadata": {},
   "source": [
    "### Visible Side (Sample)"
   ]
  },
  {
   "cell_type": "code",
   "execution_count": 9,
   "metadata": {},
   "outputs": [
    {
     "data": {
      "image/png": "[encoded data removed]",
      "text/plain": [
       "<Figure size 640x480 with 1 Axes>"
      ]
     },
     "metadata": {},
     "output_type": "display_data"
    }
   ],
   "source": [
    "plt.hist(sample, bins=sample.size, density=True)\n",
    "plt.savefig(fname=\"Problem 1A Sample.png\")\n",
    "plt.clf()"
   ]
  },
  {
   "cell_type": "markdown",
   "metadata": {},
   "source": [
    "### Sample Mean $\\mu$"
   ]
  },
  {
   "cell_type": "code",
   "execution_count": 10,
   "metadata": {},
   "outputs": [
    {
     "data": {
      "text/plain": [
       "3.8268236606319515"
      ]
     },
     "execution_count": 10,
     "metadata": {},
     "output_type": "execute_result"
    }
   ],
   "source": [
    "np.mean(sample)"
   ]
  },
  {
   "cell_type": "markdown",
   "metadata": {},
   "source": [
    "### Analytic Mean $\\alpha \\over \\beta$"
   ]
  },
  {
   "cell_type": "code",
   "execution_count": 11,
   "metadata": {},
   "outputs": [
    {
     "data": {
      "text/plain": [
       "4.0"
      ]
     },
     "execution_count": 11,
     "metadata": {},
     "output_type": "execute_result"
    }
   ],
   "source": [
    "analytic_mean = alpha / beta\n",
    "analytic_mean"
   ]
  },
  {
   "cell_type": "markdown",
   "metadata": {},
   "source": [
    "### Sample Variance $\\sigma$"
   ]
  },
  {
   "cell_type": "code",
   "execution_count": 12,
   "metadata": {},
   "outputs": [
    {
     "data": {
      "text/plain": [
       "1.9336373659541477"
      ]
     },
     "execution_count": 12,
     "metadata": {},
     "output_type": "execute_result"
    }
   ],
   "source": [
    "np.std(sample)"
   ]
  },
  {
   "cell_type": "markdown",
   "metadata": {},
   "source": [
    "### Analytic Variance $ \\sqrt{\\frac{\\alpha}{\\beta^2}} $"
   ]
  },
  {
   "cell_type": "code",
   "execution_count": 13,
   "metadata": {},
   "outputs": [
    {
     "data": {
      "text/plain": [
       "2.0"
      ]
     },
     "execution_count": 13,
     "metadata": {},
     "output_type": "execute_result"
    }
   ],
   "source": [
    "(alpha / beta**2) ** 0.5"
   ]
  },
  {
   "cell_type": "markdown",
   "metadata": {},
   "source": [
    "## B)"
   ]
  },
  {
   "cell_type": "markdown",
   "metadata": {},
   "source": [
    "### Population Estimator (mean over median)"
   ]
  },
  {
   "cell_type": "code",
   "execution_count": 14,
   "metadata": {},
   "outputs": [
    {
     "data": {
      "text/plain": [
       "1.0893779900293836"
      ]
     },
     "execution_count": 14,
     "metadata": {},
     "output_type": "execute_result"
    }
   ],
   "source": [
    "gamma_estimator = np.mean(gamma) / np.median(gamma)\n",
    "gamma_estimator"
   ]
  },
  {
   "cell_type": "markdown",
   "metadata": {},
   "source": [
    "### Sample estimator"
   ]
  },
  {
   "cell_type": "code",
   "execution_count": 15,
   "metadata": {},
   "outputs": [
    {
     "data": {
      "text/plain": [
       "1.0931954885633515"
      ]
     },
     "execution_count": 15,
     "metadata": {},
     "output_type": "execute_result"
    }
   ],
   "source": [
    "sample_estimator = np.mean(sample) / np.median(sample)\n",
    "sample_estimator"
   ]
  },
  {
   "cell_type": "markdown",
   "metadata": {},
   "source": [
    "#### Sample estimator Error (%)"
   ]
  },
  {
   "cell_type": "code",
   "execution_count": 16,
   "metadata": {},
   "outputs": [
    {
     "data": {
      "text/plain": [
       "0.3492054782429353"
      ]
     },
     "execution_count": 16,
     "metadata": {},
     "output_type": "execute_result"
    }
   ],
   "source": [
    "sample_error = 100 * error(sample_estimator, gamma_estimator)\n",
    "sample_error"
   ]
  },
  {
   "cell_type": "markdown",
   "metadata": {},
   "source": [
    "### Bootstrap"
   ]
  },
  {
   "cell_type": "code",
   "execution_count": 17,
   "metadata": {},
   "outputs": [],
   "source": [
    "bootstrap_sample = bootstrap(sample, mean_over_median)"
   ]
  },
  {
   "cell_type": "code",
   "execution_count": 18,
   "metadata": {},
   "outputs": [
    {
     "data": {
      "image/png": "[encoded data removed]",
      "text/plain": [
       "<Figure size 640x480 with 1 Axes>"
      ]
     },
     "metadata": {},
     "output_type": "display_data"
    }
   ],
   "source": [
    "plt.hist(bootstrap_sample, bins=100)\n",
    "plt.savefig(fname=\"Problem 1B Bootstrap.png\")\n",
    "plt.clf()\n"
   ]
  },
  {
   "cell_type": "markdown",
   "metadata": {},
   "source": [
    "#### Bootstrap estimator"
   ]
  },
  {
   "cell_type": "code",
   "execution_count": 19,
   "metadata": {},
   "outputs": [
    {
     "data": {
      "text/plain": [
       "1.0919274958412073"
      ]
     },
     "execution_count": 19,
     "metadata": {},
     "output_type": "execute_result"
    }
   ],
   "source": [
    "bootstrap_estimator = np.mean(bootstrap_sample)\n",
    "bootstrap_estimator"
   ]
  },
  {
   "cell_type": "markdown",
   "metadata": {},
   "source": [
    "#### Bootstrap Error (%)"
   ]
  },
  {
   "cell_type": "code",
   "execution_count": 20,
   "metadata": {},
   "outputs": [
    {
     "data": {
      "text/plain": [
       "0.23348673071553744"
      ]
     },
     "execution_count": 20,
     "metadata": {},
     "output_type": "execute_result"
    }
   ],
   "source": [
    "bootstrap_error = 100 * error(bootstrap_estimator, gamma_estimator)\n",
    "bootstrap_error"
   ]
  },
  {
   "cell_type": "markdown",
   "metadata": {},
   "source": [
    "### Summary"
   ]
  },
  {
   "cell_type": "code",
   "execution_count": 21,
   "metadata": {},
   "outputs": [
    {
     "name": "stdout",
     "output_type": "stream",
     "text": [
      "---\n",
      "Estimator: Mean over Median\n",
      "Population: 1.089\n",
      "\n",
      "Sample: 1.093\n",
      "\tError: 0.3492%\n",
      "\n",
      "Bootstrap: 1.092\n",
      "\tError: 0.2335%\n",
      "---\n"
     ]
    }
   ],
   "source": [
    "print(\"---\")\n",
    "print(\"Estimator: Mean over Median\")\n",
    "print(f\"Population: {gamma_estimator:.4}\")\n",
    "print()\n",
    "print(f\"Sample: {sample_estimator:.4}\")\n",
    "print(f\"\\tError: {sample_error:.4}%\")\n",
    "print()\n",
    "print(f\"Bootstrap: {bootstrap_estimator:.4}\")\n",
    "print(f\"\\tError: {bootstrap_error:.4}%\")\n",
    "print(\"---\")"
   ]
  },
  {
   "cell_type": "markdown",
   "metadata": {},
   "source": [
    "# Problem 2"
   ]
  },
  {
   "cell_type": "markdown",
   "metadata": {},
   "source": [
    "## Jackknife"
   ]
  },
  {
   "cell_type": "code",
   "execution_count": 22,
   "metadata": {},
   "outputs": [],
   "source": [
    "jackknife_sample = jackknife(sample, mean_over_median)"
   ]
  },
  {
   "cell_type": "markdown",
   "metadata": {},
   "source": [
    "### Jackknife Histogram"
   ]
  },
  {
   "cell_type": "code",
   "execution_count": 23,
   "metadata": {},
   "outputs": [
    {
     "data": {
      "image/png": "[encoded data removed]",
      "text/plain": [
       "<Figure size 640x480 with 1 Axes>"
      ]
     },
     "metadata": {},
     "output_type": "display_data"
    }
   ],
   "source": [
    "plt.hist(jackknife_sample, bins=100)\n",
    "plt.savefig(fname=\"Problem 2 Jackknife.png\")\n",
    "plt.clf()"
   ]
  },
  {
   "cell_type": "markdown",
   "metadata": {},
   "source": [
    "### Jackknife Estimator"
   ]
  },
  {
   "cell_type": "code",
   "execution_count": 24,
   "metadata": {},
   "outputs": [
    {
     "data": {
      "text/plain": [
       "1.0931947600212104"
      ]
     },
     "execution_count": 24,
     "metadata": {},
     "output_type": "execute_result"
    }
   ],
   "source": [
    "jackknife_estimator = np.mean(jackknife_sample)\n",
    "jackknife_estimator"
   ]
  },
  {
   "cell_type": "markdown",
   "metadata": {},
   "source": [
    "### Jackknife Error"
   ]
  },
  {
   "cell_type": "markdown",
   "metadata": {},
   "source": [
    "#### Error with Sample"
   ]
  },
  {
   "cell_type": "code",
   "execution_count": 25,
   "metadata": {},
   "outputs": [
    {
     "data": {
      "text/plain": [
       "0.34913906756676466"
      ]
     },
     "execution_count": 25,
     "metadata": {},
     "output_type": "execute_result"
    }
   ],
   "source": [
    "jackknife_error = 100 * error(jackknife_estimator, gamma_estimator)\n",
    "jackknife_error"
   ]
  },
  {
   "cell_type": "markdown",
   "metadata": {},
   "source": [
    "#### Error with Analytic"
   ]
  },
  {
   "cell_type": "code",
   "execution_count": 26,
   "metadata": {},
   "outputs": [
    {
     "data": {
      "text/plain": [
       "1.083087081136455"
      ]
     },
     "execution_count": 26,
     "metadata": {},
     "output_type": "execute_result"
    }
   ],
   "source": [
    "analytic_median = alpha - 1 + np.log(2)\n",
    "\n",
    "analytic_estimator = analytic_mean / analytic_median\n",
    "analytic_estimator"
   ]
  },
  {
   "cell_type": "code",
   "execution_count": 27,
   "metadata": {},
   "outputs": [
    {
     "data": {
      "text/plain": [
       "0.9246000122209951"
      ]
     },
     "execution_count": 27,
     "metadata": {},
     "output_type": "execute_result"
    }
   ],
   "source": [
    "jackknife_error_analytic = 100 * error(jackknife_estimator, analytic_estimator)\n",
    "jackknife_error_analytic"
   ]
  },
  {
   "cell_type": "markdown",
   "metadata": {},
   "source": [
    "### Summary"
   ]
  },
  {
   "cell_type": "code",
   "execution_count": 28,
   "metadata": {},
   "outputs": [
    {
     "name": "stdout",
     "output_type": "stream",
     "text": [
      "---\n",
      "Estimator: Mean over Median\n",
      "Population: 1.089\n",
      "\n",
      "Sample: 1.093\n",
      "\tError: 0.3492%\n",
      "\n",
      "Jackknife: 1.093\n",
      "\tError (vs Population): 0.3491%\n",
      "\tError (vs Analytic): 0.9246%\n",
      "---\n"
     ]
    }
   ],
   "source": [
    "print(\"---\")\n",
    "print(\"Estimator: Mean over Median\")\n",
    "print(f\"Population: {gamma_estimator:.4}\")\n",
    "print()\n",
    "print(f\"Sample: {sample_estimator:.4}\")\n",
    "print(f\"\\tError: {sample_error:.4}%\")\n",
    "print()\n",
    "print(f\"Jackknife: {jackknife_estimator:.4}\")\n",
    "print(f\"\\tError (vs Population): {jackknife_error:.4}%\")\n",
    "print(f\"\\tError (vs Analytic): {jackknife_error_analytic:.4}%\")\n",
    "print(\"---\")"
   ]
  },
  {
   "cell_type": "markdown",
   "metadata": {},
   "source": [
    "# Problem 3"
   ]
  },
  {
   "cell_type": "code",
   "execution_count": 29,
   "metadata": {},
   "outputs": [],
   "source": [
    "p3_samples = 10**7\n",
    "p3_N1 = rng.normal(1, 2, p3_samples)\n",
    "p3_N2 = rng.normal(4, 1, p3_samples)\n",
    "\n",
    "mask = rng.random(p3_samples) < 0.3\n",
    "\n",
    "p3_population = p3_N1 * mask + p3_N2 * np.logical_not(mask)\n",
    "p3_sample = rng.choice(p3_population, size=100, replace=False)"
   ]
  },
  {
   "cell_type": "markdown",
   "metadata": {},
   "source": [
    "## Population and Sample"
   ]
  },
  {
   "cell_type": "markdown",
   "metadata": {},
   "source": [
    "### Population"
   ]
  },
  {
   "cell_type": "code",
   "execution_count": 30,
   "metadata": {},
   "outputs": [],
   "source": [
    "p3_population_estimator = np.mean(p3_population) / np.median(p3_population)"
   ]
  },
  {
   "cell_type": "code",
   "execution_count": 31,
   "metadata": {},
   "outputs": [
    {
     "data": {
      "image/png": "[encoded data removed]",
      "text/plain": [
       "<Figure size 640x480 with 1 Axes>"
      ]
     },
     "metadata": {},
     "output_type": "display_data"
    }
   ],
   "source": [
    "plt.hist(p3_population, bins=1000, density=True)\n",
    "plt.savefig(fname=\"Problem 3 Population.png\")\n",
    "plt.clf()"
   ]
  },
  {
   "cell_type": "markdown",
   "metadata": {},
   "source": [
    "### Sample"
   ]
  },
  {
   "cell_type": "code",
   "execution_count": 32,
   "metadata": {},
   "outputs": [],
   "source": [
    "p3_sample_estimator = np.mean(p3_sample) / np.median(p3_sample)"
   ]
  },
  {
   "cell_type": "code",
   "execution_count": 33,
   "metadata": {},
   "outputs": [
    {
     "data": {
      "image/png": "[encoded data removed]",
      "text/plain": [
       "<Figure size 640x480 with 1 Axes>"
      ]
     },
     "metadata": {},
     "output_type": "display_data"
    }
   ],
   "source": [
    "plt.hist(p3_sample, 100)\n",
    "plt.savefig(fname=\"Problem 3 Sample.png\")\n",
    "plt.clf()"
   ]
  },
  {
   "cell_type": "markdown",
   "metadata": {},
   "source": [
    "## Jackknife"
   ]
  },
  {
   "cell_type": "code",
   "execution_count": 34,
   "metadata": {},
   "outputs": [],
   "source": [
    "p3_jackknife = jackknife(p3_sample, mean_over_median)\n",
    "p3_jack_estimator = np.mean(p3_jackknife)"
   ]
  },
  {
   "cell_type": "code",
   "execution_count": 35,
   "metadata": {},
   "outputs": [
    {
     "data": {
      "image/png": "[encoded data removed]",
      "text/plain": [
       "<Figure size 640x480 with 1 Axes>"
      ]
     },
     "metadata": {},
     "output_type": "display_data"
    }
   ],
   "source": [
    "plt.hist(p3_jackknife, 100)\n",
    "plt.savefig(fname=\"Problem 3 Jackknife.png\")\n",
    "plt.clf()"
   ]
  },
  {
   "cell_type": "markdown",
   "metadata": {},
   "source": [
    "## Bootstrap"
   ]
  },
  {
   "cell_type": "code",
   "execution_count": 36,
   "metadata": {},
   "outputs": [],
   "source": [
    "p3_bootstrap = bootstrap(p3_sample, estimator=mean_over_median)\n",
    "p3_boot_estimator = np.mean(p3_bootstrap)"
   ]
  },
  {
   "cell_type": "code",
   "execution_count": 37,
   "metadata": {},
   "outputs": [
    {
     "data": {
      "image/png": "[encoded data removed]",
      "text/plain": [
       "<Figure size 640x480 with 1 Axes>"
      ]
     },
     "metadata": {},
     "output_type": "display_data"
    }
   ],
   "source": [
    "plt.hist(p3_bootstrap, 100)\n",
    "plt.savefig(fname=\"Problem 3 Bootstrap.png\")\n",
    "plt.clf()"
   ]
  },
  {
   "cell_type": "markdown",
   "metadata": {},
   "source": [
    "## Summary"
   ]
  },
  {
   "cell_type": "code",
   "execution_count": 38,
   "metadata": {},
   "outputs": [
    {
     "name": "stdout",
     "output_type": "stream",
     "text": [
      "---\n",
      "Estimator: Mean over Median\n",
      "Population: 0.8715\n",
      "\n",
      "Sample: 0.8646\n",
      "\tError: 0.008065%\n",
      "\n",
      "Jackknife: 0.8652\n",
      "\tError: 0.007364%\n",
      "\n",
      "Bootstrap: 0.8604\n",
      "\tError: 0.01291%\n",
      "---\n"
     ]
    }
   ],
   "source": [
    "print(\"---\")\n",
    "print(\"Estimator: Mean over Median\")\n",
    "print(f\"Population: {p3_population_estimator:.4}\")\n",
    "print()\n",
    "print(f\"Sample: {p3_sample_estimator:.4}\")\n",
    "print(f\"\\tError: {error(p3_sample_estimator, p3_population_estimator):.4}%\")\n",
    "print()\n",
    "print(f\"Jackknife: {p3_jack_estimator:.4}\")\n",
    "print(f\"\\tError: {error(p3_jack_estimator, p3_population_estimator):.4}%\")\n",
    "print()\n",
    "print(f\"Bootstrap: {p3_boot_estimator:.4}\")\n",
    "print(f\"\\tError: {error(p3_boot_estimator, p3_population_estimator):.4}%\")\n",
    "print(\"---\")"
   ]
  }
 ],
 "metadata": {
  "kernelspec": {
   "display_name": "Python 3.11.0 64-bit",
   "language": "python",
   "name": "python3"
  },
  "language_info": {
   "codemirror_mode": {
    "name": "ipython",
    "version": 3
   },
   "file_extension": ".py",
   "mimetype": "text/x-python",
   "name": "python",
   "nbconvert_exporter": "python",
   "pygments_lexer": "ipython3",
   "version": "3.11.0"
  },
  "orig_nbformat": 4,
  "vscode": {
   "interpreter": {
    "hash": "fdc8ce40691a299b6bb624aa5416ba3cd6508bd656dc6d0556809f724f1d4250"
   }
  }
 },
 "nbformat": 4,
 "nbformat_minor": 2
}
